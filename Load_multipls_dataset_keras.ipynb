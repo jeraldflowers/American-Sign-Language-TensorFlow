{
  "nbformat": 4,
  "nbformat_minor": 0,
  "metadata": {
    "colab": {
      "provenance": [],
      "collapsed_sections": [],
      "include_colab_link": true
    },
    "kernelspec": {
      "name": "python3",
      "display_name": "Python 3"
    },
    "language_info": {
      "name": "python"
    }
  },
  "cells": [
    {
      "cell_type": "markdown",
      "metadata": {
        "id": "view-in-github",
        "colab_type": "text"
      },
      "source": [
        "<a href=\"https://colab.research.google.com/github/jeraldflowers/MNIST--American-Sign-Language-/blob/main/Load_multipls_dataset_keras.ipynb\" target=\"_parent\"><img src=\"https://colab.research.google.com/assets/colab-badge.svg\" alt=\"Open In Colab\"/></a>"
      ]
    },
    {
      "cell_type": "markdown",
      "metadata": {
        "id": "LIn8GF8DPYTn"
      },
      "source": [
        "## Keras Databases\n",
        "\n",
        "For more documentation of the databases available in Keras, visit\n",
        "[this link](https://keras.io/datasets/).\n"
      ]
    },
    {
      "cell_type": "code",
      "metadata": {
        "id": "xoIGNfNeRbVa"
      },
      "source": [
        "import tensorflow as tf\n",
        "import numpy as np\n",
        "\n",
        "%matplotlib inline\n",
        "import matplotlib.pyplot as plt"
      ],
      "execution_count": null,
      "outputs": []
    },
    {
      "cell_type": "markdown",
      "metadata": {
        "id": "TtEvkMWWPcbT"
      },
      "source": [
        "#### CIFAR-100 DATABASES\n",
        "The list of labels of the CIFAR10 and CIFAR100 databases you can find them in the following [link](https://www.cs.toronto.edu/~kriz/cifar.html)."
      ]
    },
    {
      "cell_type": "code",
      "metadata": {
        "id": "knG3j-OESCQu"
      },
      "source": [
        "from tensorflow.keras.datasets import cifar100"
      ],
      "execution_count": null,
      "outputs": []
    },
    {
      "cell_type": "code",
      "metadata": {
        "colab": {
          "base_uri": "https://localhost:8080/"
        },
        "id": "2XkV0x0NSGb-",
        "outputId": "7bd2d823-ae04-4da8-fa30-2187500fa04e"
      },
      "source": [
        "(x_train, y_train), (x_test,y_test) = cifar100.load_data(label_mode = \"fine\")"
      ],
      "execution_count": null,
      "outputs": [
        {
          "output_type": "stream",
          "name": "stdout",
          "text": [
            "Downloading data from https://www.cs.toronto.edu/~kriz/cifar-100-python.tar.gz\n",
            "169009152/169001437 [==============================] - 16s 0us/step\n",
            "169017344/169001437 [==============================] - 16s 0us/step\n"
          ]
        }
      ]
    },
    {
      "cell_type": "code",
      "metadata": {
        "colab": {
          "base_uri": "https://localhost:8080/"
        },
        "id": "biXmX7o-Smwv",
        "outputId": "c0655a3f-c626-424f-d266-4faf182fd768"
      },
      "source": [
        "print(x_train.shape)\n",
        "print(y_train.shape)"
      ],
      "execution_count": null,
      "outputs": [
        {
          "output_type": "stream",
          "name": "stdout",
          "text": [
            "(50000, 32, 32, 3)\n",
            "(50000, 1)\n"
          ]
        }
      ]
    },
    {
      "cell_type": "code",
      "metadata": {
        "colab": {
          "base_uri": "https://localhost:8080/",
          "height": 283
        },
        "id": "dGeCvoUeSsPh",
        "outputId": "ce65f360-d3f3-4973-9b77-35352a23591f"
      },
      "source": [
        "num_image = 360\n",
        "plt.imshow(x_train[num_image])\n",
        "print(y_train[num_image])"
      ],
      "execution_count": null,
      "outputs": [
        {
          "output_type": "stream",
          "name": "stdout",
          "text": [
            "[3]\n"
          ]
        },
        {
          "output_type": "display_data",
          "data": {
            "text/plain": [
              "<Figure size 432x288 with 1 Axes>"
            ],
            "image/png": "[encoded data removed]"
          },
          "metadata": {
            "needs_background": "light"
          }
        }
      ]
    },
    {
      "cell_type": "code",
      "metadata": {
        "colab": {
          "base_uri": "https://localhost:8080/"
        },
        "id": "Nd1EeOT0S63Z",
        "outputId": "e74bc3be-f720-45bb-f1d5-fd32472061c1"
      },
      "source": [
        "!wget --no-check-certificate https://storage.googleapis.com/platzi-tf2/cifar100_labels.json \\\n",
        "    -O /tmp/cifar100_labels.json"
      ],
      "execution_count": null,
      "outputs": [
        {
          "output_type": "stream",
          "name": "stdout",
          "text": [
            "--2022-09-27 04:53:28--  https://storage.googleapis.com/platzi-tf2/cifar100_labels.json\n",
            "Resolving storage.googleapis.com (storage.googleapis.com)... 172.253.62.128, 172.217.164.176, 172.217.0.48, ...\n",
            "Connecting to storage.googleapis.com (storage.googleapis.com)|172.253.62.128|:443... connected.\n",
            "HTTP request sent, awaiting response... 200 OK\n",
            "Length: 1436 (1.4K) [application/json]\n",
            "Saving to: ‘/tmp/cifar100_labels.json’\n",
            "\n",
            "/tmp/cifar100_label 100%[===================>]   1.40K  --.-KB/s    in 0s      \n",
            "\n",
            "2022-09-27 04:53:28 (24.1 MB/s) - ‘/tmp/cifar100_labels.json’ saved [1436/1436]\n",
            "\n"
          ]
        }
      ]
    },
    {
      "cell_type": "code",
      "metadata": {
        "id": "KytZ8wJfTHBV"
      },
      "source": [
        "import json\n",
        "with open(\"/tmp/cifar100_labels.json\", \"r\") as fine_labels:\n",
        "  cifar100_labels = json.load(fine_labels)"
      ],
      "execution_count": null,
      "outputs": []
    },
    {
      "cell_type": "code",
      "metadata": {
        "colab": {
          "base_uri": "https://localhost:8080/",
          "height": 283
        },
        "id": "OOuQYQAoTbkO",
        "outputId": "c161640f-4bcf-4696-ca0f-341039161e70"
      },
      "source": [
        "num_label = 78\n",
        "plt.imshow(x_train[num_image])\n",
        "print(cifar100_labels[num_label])"
      ],
      "execution_count": null,
      "outputs": [
        {
          "output_type": "stream",
          "name": "stdout",
          "text": [
            "snake\n"
          ]
        },
        {
          "output_type": "display_data",
          "data": {
            "text/plain": [
              "<Figure size 432x288 with 1 Axes>"
            ],
            "image/png": "[encoded data removed]"
          },
          "metadata": {
            "needs_background": "light"
          }
        }
      ]
    }
  ]
}